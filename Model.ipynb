{
 "cells": [
  {
   "cell_type": "markdown",
   "id": "d00ec2e5",
   "metadata": {},
   "source": [
    "## 1. Introduction\n",
    "The goal of this project is to create a predictive model that can accurately forcast the severity of car accident. The model will offer important insights into how various factors influence accident outcomes by analysing technical details of the car, such as vehicle type, engine capacity, and vehicle manoeuvre, along with specific circumstances of the accidents, such as road surface conditions and point of impact. The car manufacturer will be able to fix design flaws thanks to these insights, and they will also help build stronger safety features, which will ultimately result in safer cars on the road. The model is in line with the manufacturer's goal to more innovation in vehicle safety."
   ]
  },
  {
   "cell_type": "code",
   "execution_count": null,
   "id": "e7eaf555",
   "metadata": {},
   "outputs": [],
   "source": [
    "import logging\n",
    "logging.basicConfig()\n",
    "logging.getLogger(\"SKLEARNEX\").setLevel(logging.ERROR)\n",
    "\n",
    "import pandas as pd\n",
    "import numpy as np\n",
    "import seaborn as sns\n",
    "\n",
    "import matplotlib.pyplot as plt\n",
    "\n",
    "sns.set_theme(palette=\"Set2\")\n",
    "\n",
    "# execution time\n",
    "from timeit import default_timer as timer\n",
    "from datetime import timedelta\n",
    "\n",
    "# silence warnings\n",
    "import warnings\n",
    "warnings.filterwarnings(\"ignore\", category=UserWarning)\n",
    "\n",
    "# increase column width\n",
    "pd.set_option('display.max_colwidth', 100)\n",
    "import pandas as pd\n",
    "import numpy as np\n",
    "import seaborn as sns\n",
    "import matplotlib.pyplot as plt\n"
   ]
  },
  {
   "cell_type": "markdown",
   "id": "0254a057",
   "metadata": {},
   "source": [
    "## Load the data"
   ]
  },
  {
   "cell_type": "code",
   "execution_count": null,
   "id": "f0eb24ed",
   "metadata": {},
   "outputs": [],
   "source": [
    "testset = pd.read_excel(\"testset.xlsx\")\n",
    "trainset = pd.read_excel(\"trainset.xlsx\")\n"
   ]
  },
  {
   "cell_type": "markdown",
   "id": "faf3d409",
   "metadata": {},
   "source": [
    "Splitting the dataset into features and target variable for both training and testing sets. 'Xtrain' and 'Xtest' contain the features used for training and testing the model, respectively, these include details such as vehicle type, engine capacity, and other relevant factors that could influence the outcome of an accident. 'ytrain' and 'ytest' represent the target variable 'accident_severity', which our model aims to predict."
   ]
  },
  {
   "cell_type": "code",
   "execution_count": null,
   "id": "c82fef59",
   "metadata": {},
   "outputs": [],
   "source": [
    "Xtrain = trainset.drop(\"accident_severity\", axis=1)\n",
    "ytrain = trainset[\"accident_severity\"].copy()\n",
    "Xtest = testset.drop(\"accident_severity\", axis=1)\n",
    "ytest = testset[\"accident_severity\"].copy()\n"
   ]
  },
  {
   "cell_type": "markdown",
   "id": "81c8dac0",
   "metadata": {},
   "source": [
    "## Imbalanced data\n",
    "after finding that the dataset is imbalanced in the group project, here we should apply the Synthetic Minority Over-sampling Technique (SMOTE) to solve the issue of class imbalance in our dataset, where some accident severities are underrepresented. In order to get a balanced class distribution in the training data, this approach creates synthetic instances of the minority class. In order to ensure that the model properly forecasts all degrees of accident severity and to avoid bias towards the majority class, it is imperative that the classes be balanced."
   ]
  },
  {
   "cell_type": "code",
   "execution_count": null,
   "id": "107c8b0d",
   "metadata": {},
   "outputs": [],
   "source": [
    "#SMOTE\n",
    "from imblearn.over_sampling import SMOTE\n",
    "smote = SMOTE(sampling_strategy='auto', random_state=42)\n",
    "X_train_resampled, y_train_resampled = smote.fit_resample(Xtrain, ytrain)\n"
   ]
  },
  {
   "cell_type": "markdown",
   "id": "b7279e52",
   "metadata": {},
   "source": [
    "## 2. Baseline Method\n",
    "#### 1. DummyClassifier\n",
    "\n",
    "DummyClassifier from scikit-learn is utilised to create a performance baseline for our prediction model. This classifier serves as a simple reference point by making predictions based on simple rules, which, in this case, is predicting the most frequent class found in the training set. This method helps in our comprehension of the minimum accuracy levels that each advanced model must surpass to demonstrate its significance. Instead of learning from the data, the DummyClassifier uses the class distribution to create a baseline for the lowest acceptable performance."
   ]
  },
  {
   "cell_type": "code",
   "execution_count": null,
   "id": "69d4c42d",
   "metadata": {},
   "outputs": [],
   "source": [
    "#Base model DummyClassifier\n",
    "from sklearn.dummy import DummyClassifier\n",
    "from sklearn.metrics import precision_recall_fscore_support\n",
    "from sklearn.metrics import accuracy_score\n",
    "\n",
    "dummy_clf = DummyClassifier(strategy=\"most_frequent\")\n",
    "dummy_clf.fit(X_train_resampled, y_train_resampled)\n",
    "y_pred = dummy_clf.predict(Xtest)  # Predict on the test set\n",
    "\n",
    "# Evaluate the model's performance on the test set\n",
    "p, r, f, _ = precision_recall_fscore_support(ytest, y_pred, average=\"macro\", zero_division=0)\n",
    "accuracy = accuracy_score(ytest, y_pred)\n",
    "print(\"Baseline Model Performance:\")\n",
    "print(f\"Precision: {p:.3f}\")\n",
    "print(f\"Recall: {r:.3f}\")\n",
    "print(f\"F-score: {f:.3f}\")\n",
    "print(f\"Accuracy: {accuracy:.3f}\")\n"
   ]
  },
  {
   "cell_type": "markdown",
   "id": "58ea192e",
   "metadata": {},
   "source": [
    "Baseline Model Performance:\n",
    "\n",
    "*Precision: 0.008*\n",
    "\n",
    "*Recall: 0.333*\n",
    "\n",
    "*F-score: 0.016*\n",
    "\n",
    "*Accuracy: 0.025*\n",
    "\n"
   ]
  },
  {
   "cell_type": "markdown",
   "id": "8ac1046f",
   "metadata": {},
   "source": [
    "In addressing car accident severity prediction, I chose Decision Trees, Random Forest, AdaBoost, and Logistic Regression for evaluation and comparison. Decision Trees provide an intuitive understanding of how variables influence outcomes, while Random Forest and AdaBoost enhance prediction accuracy by addressing overfitting and focusing on challenging cases, respectively. Logistic Regression, known for its probabilistic approach, offers insights into the likelihood of accident severities. By comparing these models, we aim to identify the most effective approach for predicting accident severity, thereby informing strategies to improve vehicle safety.\n",
    "\n",
    "#### 2. Decision Tress"
   ]
  },
  {
   "cell_type": "code",
   "execution_count": null,
   "id": "e112bb39",
   "metadata": {},
   "outputs": [],
   "source": [
    "#Decision tree\n",
    "\n",
    "from sklearn.tree import DecisionTreeClassifier\n",
    "from sklearn.metrics import precision_recall_fscore_support\n",
    "from sklearn.model_selection import cross_val_score, GridSearchCV\n",
    "\n",
    "#Initial Decision Tree Classifier for baseline performance\n",
    "tree_clf = DecisionTreeClassifier(random_state=42)\n",
    "tree_clf.fit(X_train_resampled, y_train_resampled)  # Train model on the resampled training set\n",
    "y_pred = tree_clf.predict(Xtest)  # Predict on the original test set\n",
    "\n",
    "#Initial Evaluation\n",
    "precision, recall, f_score, _ = precision_recall_fscore_support(ytest, y_pred, average=\"macro\", zero_division=0)\n",
    "print(\"Initial Decision Tree Classifier Performance:\")\n",
    "print(f\"Precision: {precision:.3f}, Recall: {recall:.3f}, F-score: {f_score:.3f}\")\n",
    "accuracy = accuracy_score(ytest, y_pred)\n",
    "print(f\"Accuracy for Initial Decision Tree Classifier: {accuracy:.3f}\")\n",
    "\n",
    "#Cross-validation for baseline model evaluation\n",
    "cv_scores = cross_val_score(tree_clf, X_train_resampled, y_train_resampled, cv=5, scoring='accuracy')\n",
    "print(f\"Average CV Accuracy for Decision Tree: {cv_scores.mean():.3f}\")\n"
   ]
  },
  {
   "cell_type": "markdown",
   "id": "2321e129",
   "metadata": {},
   "source": [
    "Initial Decision Tree Classifier Performance:\n",
    "\n",
    "*Precision: 0.824, Recall: 0.873, F-score: 0.847*\n",
    "\n",
    "*Accuracy for Initial Decision Tree Classifier: 0.913*\n",
    "\n",
    "*Average CV Accuracy for Decision Tree: 0.941*\n",
    "    \n",
    "\n",
    "#### 3. Logistic Regression\n"
   ]
  },
  {
   "cell_type": "code",
   "execution_count": null,
   "id": "e676f928",
   "metadata": {},
   "outputs": [],
   "source": [
    "#Logistic Regression\n",
    "\n",
    "from sklearn.linear_model import LogisticRegression\n",
    "from sklearn.metrics import precision_recall_fscore_support\n",
    "from sklearn.model_selection import cross_val_score, GridSearchCV\n",
    "from sklearn.metrics import make_scorer, accuracy_score\n",
    "\n",
    "#Initial Logistic Regression model for baseline performance\n",
    "log_reg = LogisticRegression(max_iter=1000, random_state=42)\n",
    "log_reg.fit(X_train_resampled, y_train_resampled)\n",
    "y_pred = log_reg.predict(Xtest)\n",
    "\n",
    "# Initial Evaluation\n",
    "precision, recall, f_score, _ = precision_recall_fscore_support(ytest, y_pred, average=\"macro\", zero_division=0)\n",
    "print(\"Initial Logistic Regression Performance:\")\n",
    "print(f\"Precision: {precision:.3f}, Recall: {recall:.3f}, F-score: {f_score:.3f}\")\n",
    "accuracy = accuracy_score(ytest, y_pred)\n",
    "print(f\"Accuracy for Initial Logistic Regression: {accuracy:.3f}\")\n",
    "#Cross-validation for baseline model evaluation\n",
    "cv_scores = cross_val_score(log_reg, X_train_resampled, y_train_resampled, cv=5, scoring='accuracy')\n",
    "print(f\"Average CV Accuracy for Logistic Regression: {cv_scores.mean():.3f}\")\n"
   ]
  },
  {
   "cell_type": "markdown",
   "id": "d6e82a73",
   "metadata": {},
   "source": [
    "Initial Logistic Regression Performance:\n",
    "\n",
    "*Precision: 0.661, Recall: 0.747, F-score: 0.648*\n",
    "\n",
    "*Accuracy for Initial Logistic Regression: 0.847*\n",
    "    \n",
    "*Average CV Accuracy for Logistic Regression: 0.731*\n",
    "\n",
    "#### 4. Random Forest"
   ]
  },
  {
   "cell_type": "code",
   "execution_count": null,
   "id": "c82c1a94",
   "metadata": {},
   "outputs": [],
   "source": [
    "#Random Forest\n",
    "\n",
    "from sklearn.ensemble import RandomForestClassifier\n",
    "from sklearn.metrics import precision_recall_fscore_support\n",
    "from sklearn.model_selection import cross_val_score, GridSearchCV\n",
    "\n",
    "#Initial RandomForest Classifier for baseline performance\n",
    "rf_clf = RandomForestClassifier(random_state=42)\n",
    "rf_clf.fit(X_train_resampled, y_train_resampled)\n",
    "y_pred = rf_clf.predict(Xtest)\n",
    "\n",
    "#Initial Evaluation\n",
    "precision, recall, f_score, _ = precision_recall_fscore_support(ytest, y_pred, average=\"macro\", zero_division=0)\n",
    "print(\"Initial RandomForest Classifier Performance:\")\n",
    "print(f\"Precision: {precision:.3f}, Recall: {recall:.3f}, F-score: {f_score:.3f}\")\n",
    "accuracy = accuracy_score(ytest, y_pred)\n",
    "print(f\"Accuracy for Initial RandomForest Classifier: {accuracy:.3f}\")\n",
    "\n",
    "#Cross-validation for baseline model evaluation\n",
    "cv_scores = cross_val_score(rf_clf, X_train_resampled, y_train_resampled, cv=5, scoring='accuracy')\n",
    "print(f\"Average CV Accuracy for RandomForest: {cv_scores.mean():.3f}\")\n"
   ]
  },
  {
   "cell_type": "markdown",
   "id": "e978c1f6",
   "metadata": {},
   "source": [
    "Initial RandomForest Classifier Performance:\n",
    "\n",
    "*Precision: 0.960, Recall: 0.884, F-score: 0.918*\n",
    "\n",
    "*Accuracy for Initial RandomForest Classifier: 0.954*\n",
    "    \n",
    "*Average CV Accuracy for RandomForest: 0.974*\n",
    "\n",
    "#### 5.AdaBoost\n"
   ]
  },
  {
   "cell_type": "code",
   "execution_count": null,
   "id": "4c461dcc",
   "metadata": {},
   "outputs": [],
   "source": [
    "#AdaBoost\n",
    "\n",
    "from sklearn.metrics import precision_recall_fscore_support\n",
    "from sklearn.tree import DecisionTreeClassifier\n",
    "from sklearn.ensemble import AdaBoostClassifier\n",
    "from sklearn.metrics import precision_recall_fscore_support\n",
    "from sklearn.model_selection import cross_val_score, GridSearchCV\n",
    "from sklearn.ensemble import AdaBoostClassifier\n",
    "from sklearn.metrics import precision_recall_fscore_support\n",
    "\n",
    "#Initial AdaBoost model for baseline performance\n",
    "base_estimator = DecisionTreeClassifier(max_depth=1, random_state=42)\n",
    "ada_clf = AdaBoostClassifier(base_estimator=base_estimator, n_estimators=50, random_state=42)\n",
    "ada_clf.fit(X_train_resampled, y_train_resampled)\n",
    "y_pred = ada_clf.predict(Xtest)\n",
    "\n",
    "# Initial Evaluation on test set\n",
    "precision, recall, f_score, _ = precision_recall_fscore_support(ytest, y_pred, average=\"macro\", zero_division=0)\n",
    "print(\"Initial AdaBoost Classifier Performance:\")\n",
    "print(f\"Precision: {precision:.3f}, Recall: {recall:.3f}, F-score: {f_score:.3f}\")\n",
    "accuracy = accuracy_score(ytest, y_pred)\n",
    "print(f\"Accuracy for Initial AdaBoost Classifier: {accuracy:.3f}\")\n",
    "\n",
    "#Cross-validation for model evaluation (Use resampled data)\n",
    "cv_scores = cross_val_score(ada_clf, X_train_resampled, y_train_resampled, cv=5, scoring='accuracy')\n",
    "print(f\"Average CV Accuracy for AdaBoost on Resampled Data: {cv_scores.mean():.3f}\")\n"
   ]
  },
  {
   "cell_type": "markdown",
   "id": "a41b6f7d",
   "metadata": {},
   "source": [
    "Initial AdaBoost Classifier Performance:\n",
    "\n",
    "*Precision: 0.655, Recall: 0.642, F-score: 0.628*\n",
    "\n",
    "*Accuracy for Initial AdaBoost Classifier: 0.869*\n",
    "\n",
    "*Average CV Accuracy for AdaBoost on Resampled Data: 0.713*\n"
   ]
  },
  {
   "cell_type": "markdown",
   "id": "1aefddf7",
   "metadata": {},
   "source": [
    "## 3. Hyperparameter Tuning\n",
    "Hyperparameter tuning is essential for optimizing a model's settings to enhance its performance. GridSearchCV is a key tool for this, methodically testing combinations of hyperparameters through cross-validation to identify the best configuration. It defines a grid of hyperparameter values, evaluates each, and selects the combination that produces the optimal performance. Although computationally intensive, this exhaustive approach ensures the model is finely adjusted to the specific nuances of the data it's trained on, leading to improved accuracy and effectiveness.\n"
   ]
  },
  {
   "cell_type": "code",
   "execution_count": null,
   "id": "a546e6b2",
   "metadata": {},
   "outputs": [],
   "source": [
    "#GridSearchCV for Hyperparameter Tuning decision tree\n",
    "param_grid = {\n",
    "   'max_depth': [2, 25],\n",
    "    'min_samples_split': [2, 50],\n",
    "    'min_samples_leaf': [1, 50],\n",
    "    'max_leaf_nodes': [5000, 16000],\n",
    "}\n",
    "\n",
    "grid_search1 = GridSearchCV(estimator=DecisionTreeClassifier(random_state=42),\n",
    "                           param_grid=param_grid,\n",
    "                           cv=5,  # 5-fold cross-validation\n",
    "                           scoring='accuracy',\n",
    "                           n_jobs=-1)\n",
    "\n",
    "# Perform the hyperparameter search\n",
    "grid_search1.fit(X_train_resampled, y_train_resampled)\n",
    "\n",
    "# Best parameters found\n",
    "print(f\"Best parameters found: {grid_search1.best_params_}\")\n"
   ]
  },
  {
   "cell_type": "markdown",
   "id": "fbd69d60",
   "metadata": {},
   "source": [
    "*Best parameters found: {'max_depth': 25, 'max_leaf_nodes': 5000, 'min_samples_leaf': 1, 'min_samples_split': 2}*\n"
   ]
  },
  {
   "cell_type": "code",
   "execution_count": null,
   "id": "f08622be",
   "metadata": {},
   "outputs": [],
   "source": [
    "#GridSearchCV for Hyperparameter Tuning logistic regression\n",
    "param_grid = {\n",
    "    'C': [0.001, 0.01, 0.1, 1, 10, 100],\n",
    "    'solver': ['liblinear', 'lbfgs']\n",
    "}\n",
    "\n",
    "\n",
    "grid_search2 = GridSearchCV(estimator=LogisticRegression(max_iter=1000, random_state=42),\n",
    "                           param_grid=param_grid,\n",
    "                           cv=5, scoring='accuracy',\n",
    "                           n_jobs=-1)\n",
    "\n",
    "# Perform the hyperparameter search\n",
    "grid_search2.fit(X_train_resampled, y_train_resampled)\n",
    "\n",
    "# Best parameters found\n",
    "print(f\"Best parameters found: {grid_search2.best_params_}\")\n"
   ]
  },
  {
   "cell_type": "markdown",
   "id": "47bc29fe",
   "metadata": {},
   "source": [
    "*Best parameters found: {'C': 0.001, 'solver': 'lbfgs'}*\n"
   ]
  },
  {
   "cell_type": "code",
   "execution_count": null,
   "id": "ce64adf1",
   "metadata": {},
   "outputs": [],
   "source": [
    "#GridSearchCV for Hyperparameter Tuning random forest\n",
    "\n",
    "param_grid = {\n",
    "    'n_estimators': [100, 200],\n",
    "  'max_depth': [10, 20, None],\n",
    "  'min_samples_split': [2, 4]\n",
    "\n",
    "}\n",
    "\n",
    "grid_search3 = GridSearchCV(estimator=RandomForestClassifier(random_state=42),\n",
    "                           param_grid=param_grid,\n",
    "                           cv=5, scoring='accuracy',\n",
    "                           n_jobs=-1)\n",
    "\n",
    "# Perform the hyperparameter search\n",
    "grid_search3.fit(X_train_resampled, y_train_resampled)\n",
    "\n",
    "# Best parameters found\n",
    "print(f\"Best parameters found: {grid_search3.best_params_}\")\n"
   ]
  },
  {
   "cell_type": "markdown",
   "id": "8f7ea83e",
   "metadata": {},
   "source": [
    "*Best parameters found: {'max_depth': None, 'min_samples_split': 2, 'n_estimators': 200}*\n"
   ]
  },
  {
   "cell_type": "code",
   "execution_count": null,
   "id": "691f8ffc",
   "metadata": {},
   "outputs": [],
   "source": [
    "#GridSearchCV for Hyperparameter Tuning adaboost\n",
    "param_grid = {\n",
    "    'n_estimators': [50,  200, 300],  # List of values for the number of trees\n",
    "    'learning_rate': [0.01, 0.1, 0.5, 1.0],\n",
    "    'base_estimator__max_depth': [1, 2, 3, 4]\n",
    "}\n",
    "\n",
    "grid_search4 = GridSearchCV(ada_clf, param_grid=param_grid, cv=5, scoring='accuracy', n_jobs=-1)\n",
    "\n",
    "# Perform the hyperparameter search\n",
    "grid_search4.fit(X_train_resampled, y_train_resampled)\n",
    "\n",
    "# Best parameters found\n",
    "print(f\"Best parameters found: {grid_search4.best_params_}\")\n"
   ]
  },
  {
   "cell_type": "markdown",
   "id": "baa49fbf",
   "metadata": {},
   "source": [
    "*Best parameters found: {'base_estimator__max_depth': 4, 'learning_rate': 0.1, 'n_estimators': 300}*\n"
   ]
  },
  {
   "cell_type": "markdown",
   "id": "7ac31ab7",
   "metadata": {},
   "source": [
    "## 4. Model Evaluation\n",
    "In the model evaluation section, we critically assess the performance of our chosen machine learning models to determine their effectiveness in predicting accident severity. This involves analyzing various metrics such as precision, recall, and F-score, which offer insights into the accuracy, reliability, and relevance of the model predictions. By comparing these metrics across models, we identify strengths and weaknesses, understand the trade-offs, and decide on the most suitable model for deployment. This thorough evaluation ensures that the final model not only predicts accurately but also aligns with the specific needs and objectives of improving vehicle safety. Through this process, we ensure that our predictive model is not just a theoretical construct but a practical tool capable of making meaningful contributions to enhancing road safety."
   ]
  },
  {
   "cell_type": "code",
   "execution_count": null,
   "id": "5fb08a30",
   "metadata": {},
   "outputs": [],
   "source": [
    "# Final Evaluation Decision Tree\n",
    "# Using the best model to predict on the test set\n",
    "y_pred_opt1 = grid_search1.predict(Xtest)\n",
    "\n",
    "precision_opt1, recall_opt1, f_score_opt1, _ = precision_recall_fscore_support(ytest, y_pred_opt1, average=\"macro\", zero_division=0)\n",
    "print(\"Optimized Decision Tree Classifier Performance:\")\n",
    "print(f\"Precision: {precision_opt1:.3f}, Recall: {recall_opt1:.3f}, F-score: {f_score_opt1:.3f}\")\n",
    "accuracy1 = accuracy_score(ytest, y_pred_opt1)\n",
    "print(f\"Accuracy for Decision Tree Classifier: {accuracy1:.3f}\")\n"
   ]
  },
  {
   "cell_type": "markdown",
   "id": "3583cd41",
   "metadata": {},
   "source": [
    "Optimized Decision Tree Classifier Performance:\n",
    "\n",
    "*Precision: 0.825, Recall: 0.841, F-score: 0.831*\n",
    "\n",
    "*Accuracy for Decision Tree Classifier: 0.909*\n"
   ]
  },
  {
   "cell_type": "code",
   "execution_count": null,
   "id": "60ad6cac",
   "metadata": {},
   "outputs": [],
   "source": [
    "# Final Evaluation Logistic Regression\n",
    "# Using the best model to predict on the test set\n",
    "y_pred_opt2 = grid_search2.predict(Xtest)\n",
    "\n",
    "precision_opt2, recall_opt2, f_score_opt2, _ = precision_recall_fscore_support(ytest, y_pred_opt2, average=\"macro\", zero_division=0)\n",
    "print(\"Optimized Logistic Regression Performance:\")\n",
    "print(f\"Precision: {precision_opt2:.3f}, Recall: {recall_opt2:.3f}, F-score: {f_score_opt2:.3f}\")\n",
    "accuracy2 = accuracy_score(ytest, y_pred_opt2)\n",
    "print(f\"Accuracy for Logistic Regression: {accuracy2:.3f}\")\n"
   ]
  },
  {
   "cell_type": "markdown",
   "id": "51bbd3c7",
   "metadata": {},
   "source": [
    "Optimized Logistic Regression Performance:\n",
    "\n",
    "*Precision: 0.673, Recall: 0.749, F-score: 0.650*\n",
    "\n",
    "*Accuracy for Logistic Regression: 0.852*\n"
   ]
  },
  {
   "cell_type": "code",
   "execution_count": null,
   "id": "a8204b51",
   "metadata": {},
   "outputs": [],
   "source": [
    "# Final Evaluation Random Forest\n",
    "# Using the best model to predict on the test set\n",
    "y_pred_opt3 = grid_search3.predict(Xtest)\n",
    "\n",
    "precision_opt3, recall_opt3, f_score_opt3, _ = precision_recall_fscore_support(ytest, y_pred_opt3, average=\"macro\", zero_division=0)\n",
    "print(\"Optimized Random Forest Classifier Performance:\")\n",
    "print(f\"Precision: {precision_opt3:.3f}, Recall: {recall_opt3:.3f}, F-score: {f_score_opt3:.3f}\")\n",
    "accuracy3 = accuracy_score(ytest, y_pred_opt3)\n",
    "print(f\"Accuracy for Random Forest: {accuracy3:.3f}\")\n"
   ]
  },
  {
   "cell_type": "markdown",
   "id": "ae7ac6cd",
   "metadata": {},
   "source": [
    "Optimized Random Forest Classifier Performance:\n",
    "\n",
    "*Precision: 0.958, Recall: 0.885, F-score: 0.918*\n",
    "\n",
    "*Accuracy for Random Forest: 0.954*\n"
   ]
  },
  {
   "cell_type": "code",
   "execution_count": null,
   "id": "74d2575f",
   "metadata": {},
   "outputs": [],
   "source": [
    "# Final Evaluation AdaBoost Classifier\n",
    "# Using the best model to predict on the test set adaboost\n",
    "y_pred_opt4 = grid_search4.predict(Xtest)\n",
    "\n",
    "precision_opt4, recall_opt4, f_score_opt4, _ = precision_recall_fscore_support(ytest, y_pred_opt4, average=\"macro\", zero_division=0)\n",
    "print(\"Optimized AdaBoost Classifier Performance:\")\n",
    "print(f\"Precision: {precision_opt4:.3f}, Recall: {recall_opt4:.3f}, F-score: {f_score_opt4:.3f}\")\n",
    "accuracy4 = accuracy_score(ytest, y_pred_opt4)\n",
    "print(f\"Accuracy for AdaBoost Classifier: {accuracy4:.3f}\")\n"
   ]
  },
  {
   "cell_type": "markdown",
   "id": "4f1b0001",
   "metadata": {},
   "source": [
    "Optimized AdaBoost Classifier Performance:\n",
    "\n",
    "*Precision: 0.926, Recall: 0.781, F-score: 0.839*\n",
    "\n",
    "*Accuracy for AdaBoost Classifier: 0.919*\n",
    "\n",
    "#### best Model confusion matrix"
   ]
  },
  {
   "cell_type": "code",
   "execution_count": null,
   "id": "822e75c7",
   "metadata": {},
   "outputs": [],
   "source": [
    "from sklearn.metrics import confusion_matrix, ConfusionMatrixDisplay\n",
    "import matplotlib.pyplot as plt\n",
    "\n",
    "#conf_matrix of Random Forest\n",
    "conf_matrix = confusion_matrix(ytest, y_pred_opt3)\n",
    "disp = ConfusionMatrixDisplay(confusion_matrix=conf_matrix)\n",
    "\n",
    "disp.plot(cmap=plt.cm.Blues)\n",
    "plt.title('Confusion Matrix for Optimized Random Forest Classifier')\n",
    "plt.show()\n"
   ]
  },
  {
   "attachments": {
    "image.png": {
     "image/png": "[encoded data removed]"
    }
   },
   "cell_type": "markdown",
   "id": "db991ed1",
   "metadata": {},
   "source": [
    "![image.png](attachment:image.png)"
   ]
  },
  {
   "cell_type": "code",
   "execution_count": null,
   "id": "2385cb46",
   "metadata": {},
   "outputs": [],
   "source": [
    "#conf_matrix of AdaBoost\n",
    "conf_matrix = confusion_matrix(ytest, y_pred_opt4)\n",
    "disp = ConfusionMatrixDisplay(confusion_matrix=conf_matrix)\n",
    "\n",
    "disp.plot(cmap=plt.cm.Blues)\n",
    "plt.title('Confusion Matrix for Optimized AdaBoost Classifier')\n",
    "plt.show()\n"
   ]
  },
  {
   "attachments": {
    "image.png": {
     "image/png": "[encoded data removed]"
    }
   },
   "cell_type": "markdown",
   "id": "07d8e3e7",
   "metadata": {},
   "source": [
    "![image.png](attachment:image.png)"
   ]
  },
  {
   "cell_type": "markdown",
   "id": "dabbb3fa",
   "metadata": {},
   "source": [
    "While the Random Forest Classifier does exceptionally well in accurately classifying the most fatal incidents (class 2), it exhibits considerable difficulty when classifying slight and moderate accidents (classes 0 and 1). While the AdaBoost Classifier has a slightly higher misclassification rate for the least severe incidents (class 0), it has a similar strength in recognising severe accidents. It appears that both models might do a better job of distinguishing between accident classifications that are not severe.\n",
    "\n",
    "#### Results\n",
    "\n",
    "In our analysis to predict accident severity, the RandomForest Classifier emerged as the standout model, delivering consistent high performance across precision (0.958), recall (0.885), and F-score (0.918). This demonstrates its robust capability to manage the complexity inherent in predicting accident outcomes. After optimisation, the AdaBoost Classifier demonstrated a significant improvement, showing an increase in accuracy to 0.926 and an increase in F-score to 0.839. This highlights the potential of ensemble approaches that are properly tuned. On the other hand, Logistic Regression had minor gains after optimisation, indicating that its accuracy (0.673) and F-score (0.650) may not accurately reflect nuances of accident severity. Even after being fine-tuned, the Decision Tree Classifier retained strong beginning metrics, demonstrating its usefulness in producing models that are easy to understand. These findings demonstrate the superiority of the RandomForest Classifier in this particular scenario and emphasise the significance of model selection and hyperparameter optimisation when addressing challenging predicting problems.\n",
    "\n",
    "## 5. Conclusion and possible Improvement\n",
    "The investigation of multiple models to forecast the severity of accidents has produced informative findings, with each model exhibiting unique advantages. After optimisation, the AdaBoost Classifier significantly improved, demonstrating its adaptability and efficiency in managing complicated datasets via ensemble learning. Even though it only shows slight benefits, Logistic Regression emphasises how crucial feature selection and model simplicity are for readability and quicker iteration. The Decision Tree Classifier demonstrated its value in producing comprehensible models that may directly advise safety improvements by providing an excellent balance between precision and recall. But the RandomForest Classifier really stood out due to its outstanding performance, which combined strong accuracy with the capacity to manage intricate feature interactions without requiring a lot of hyperparameter tweaking\n",
    "\n",
    "Moving forward, multiple possibilities for improvement present themselves. Experimenting with more varied sets of hyperparameters for AdaBoost and Logistic Regression may reveal setups that improve their performance even more. Advanced pruning approaches might help the Decision Tree model become more refined in terms of complexity and possibly even more generalizable. Investigating feature engineering and adding more complex accident data might improve the RandomForest Classifier's predicted accuracy even more.\n",
    "\n",
    "In summary, while our results are promising, continuous refinement and exploration of additional models, like deep learning techniques or more advanced ensemble methods, could offer new perspectives and improvements. Further improvements in model performance could be obtained by adding real-time data, investigating different feature selection techniques, and utilising more complex hyperparameter optimisation strategies, such as Bayesian optimisation which tried to implement but faced with hardware limits, which would bring the project one step closer to the objective of optimising vehicle safety through data-driven insights."
   ]
  }
 ],
 "metadata": {
  "language_info": {
   "name": "python"
  }
 },
 "nbformat": 4,
 "nbformat_minor": 5
}
